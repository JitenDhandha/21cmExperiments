{
 "cells": [
  {
   "cell_type": "markdown",
   "metadata": {},
   "source": [
    "### Libraries"
   ]
  },
  {
   "cell_type": "code",
   "execution_count": 1,
   "metadata": {},
   "outputs": [],
   "source": [
    "import numpy as np \n",
    "import pandas as pd"
   ]
  },
  {
   "cell_type": "markdown",
   "metadata": {},
   "source": [
    "### Reading in the data from the internet"
   ]
  },
  {
   "cell_type": "code",
   "execution_count": 2,
   "metadata": {},
   "outputs": [],
   "source": [
    "# Read in the data from the online spreadsheet\n",
    "EXPERIMENTS = pd.read_csv('https://docs.google.com/spreadsheets/d/'+\n",
    "                          '1ivpOBFxBW_3guvNMOkRfU7e-hFXRtjXCTbr4aTJcPdY/' +\n",
    "                          'export?gid=0&format=csv',\n",
    "                          header=0,\n",
    "                          names=['Experiment', 'Telescope', 'Publications', 'Location',\n",
    "                                 'Type', 'Antenna type', 'Frequency (MHz)', 'Status'],)\n",
    "# Convert the data to the correct types\n",
    "EXPERIMENTS['Frequency (MHz)'] = EXPERIMENTS['Frequency (MHz)'].apply(lambda x: np.array(x.split(',')).astype(np.float64) if x == x else x)\n",
    "EXPERIMENTS['Publications'] = EXPERIMENTS['Publications'].apply(lambda x: x.split(',') if x == x else x)\n",
    "EXPERIMENTS['Location'] = EXPERIMENTS['Location'].apply(lambda x: x.split(';') if x == x else x)\n",
    "    \n",
    "# Define a function that filters the data table based on the experiment\n",
    "def get_experiment(experiment_name):\n",
    "    experiment_info = EXPERIMENTS[EXPERIMENTS['Experiment'] == experiment_name]\n",
    "    if len(experiment_info) == 0:\n",
    "        raise ValueError(f\"Experiment {experiment_name} not found.\")\n",
    "    else:\n",
    "        return experiment_info\n",
    "    \n",
    "# Define a function that returns the redshift range of the experiment\n",
    "def get_redshift(experiment_name):\n",
    "    experiment_info = get_experiment(experiment_name)\n",
    "    freq21cm = 1420.40575177\n",
    "    frequency = experiment_info['Frequency (MHz)']\n",
    "    z_info = experiment_info[['Telescope', 'Frequency (MHz)']].copy()\n",
    "    z_info['Redshift'] = ((freq21cm/frequency) - 1).apply(lambda x: np.round(x, 2))\n",
    "    return z_info"
   ]
  },
  {
   "cell_type": "markdown",
   "metadata": {},
   "source": [
    "### Using the data-frame"
   ]
  },
  {
   "cell_type": "code",
   "execution_count": 3,
   "metadata": {},
   "outputs": [
    {
     "data": {
      "text/html": [
       "<div>\n",
       "<style scoped>\n",
       "    .dataframe tbody tr th:only-of-type {\n",
       "        vertical-align: middle;\n",
       "    }\n",
       "\n",
       "    .dataframe tbody tr th {\n",
       "        vertical-align: top;\n",
       "    }\n",
       "\n",
       "    .dataframe thead th {\n",
       "        text-align: right;\n",
       "    }\n",
       "</style>\n",
       "<table border=\"1\" class=\"dataframe\">\n",
       "  <thead>\n",
       "    <tr style=\"text-align: right;\">\n",
       "      <th></th>\n",
       "      <th>Experiment</th>\n",
       "      <th>Telescope</th>\n",
       "      <th>Publications</th>\n",
       "      <th>Location</th>\n",
       "      <th>Type</th>\n",
       "      <th>Antenna type</th>\n",
       "      <th>Frequency (MHz)</th>\n",
       "      <th>Status</th>\n",
       "    </tr>\n",
       "  </thead>\n",
       "  <tbody>\n",
       "    <tr>\n",
       "      <th>0</th>\n",
       "      <td>SARAS</td>\n",
       "      <td>SARAS1</td>\n",
       "      <td>[2013ExA....36..319P]</td>\n",
       "      <td>[Gauribidanur Observatory (southern India)]</td>\n",
       "      <td>global</td>\n",
       "      <td>Fat-dipole correlation spectrometer</td>\n",
       "      <td>[87.5, 175.0]</td>\n",
       "      <td>NaN</td>\n",
       "    </tr>\n",
       "    <tr>\n",
       "      <th>1</th>\n",
       "      <td>SARAS</td>\n",
       "      <td>SARAS2</td>\n",
       "      <td>[2018ExA....45..269S,  2017ApJ...845L..12S]</td>\n",
       "      <td>[Timbaktu Collective (southern India)]</td>\n",
       "      <td>global</td>\n",
       "      <td>Monopole</td>\n",
       "      <td>[110.0, 200.0]</td>\n",
       "      <td>NaN</td>\n",
       "    </tr>\n",
       "    <tr>\n",
       "      <th>2</th>\n",
       "      <td>SARAS</td>\n",
       "      <td>SARAS3</td>\n",
       "      <td>[2021arXiv210401756N,  2020JAI.....950006G]</td>\n",
       "      <td>[Southern India]</td>\n",
       "      <td>global</td>\n",
       "      <td>Monopole</td>\n",
       "      <td>[40.0, 200.0]</td>\n",
       "      <td>NaN</td>\n",
       "    </tr>\n",
       "  </tbody>\n",
       "</table>\n",
       "</div>"
      ],
      "text/plain": [
       "  Experiment Telescope                                 Publications  \\\n",
       "0      SARAS    SARAS1                        [2013ExA....36..319P]   \n",
       "1      SARAS    SARAS2  [2018ExA....45..269S,  2017ApJ...845L..12S]   \n",
       "2      SARAS    SARAS3  [2021arXiv210401756N,  2020JAI.....950006G]   \n",
       "\n",
       "                                      Location    Type  \\\n",
       "0  [Gauribidanur Observatory (southern India)]  global   \n",
       "1       [Timbaktu Collective (southern India)]  global   \n",
       "2                             [Southern India]  global   \n",
       "\n",
       "                          Antenna type Frequency (MHz)  Status  \n",
       "0  Fat-dipole correlation spectrometer   [87.5, 175.0]     NaN  \n",
       "1                             Monopole  [110.0, 200.0]     NaN  \n",
       "2                             Monopole   [40.0, 200.0]     NaN  "
      ]
     },
     "execution_count": 3,
     "metadata": {},
     "output_type": "execute_result"
    }
   ],
   "source": [
    "get_experiment('SARAS')"
   ]
  },
  {
   "cell_type": "code",
   "execution_count": 4,
   "metadata": {},
   "outputs": [
    {
     "data": {
      "text/html": [
       "<div>\n",
       "<style scoped>\n",
       "    .dataframe tbody tr th:only-of-type {\n",
       "        vertical-align: middle;\n",
       "    }\n",
       "\n",
       "    .dataframe tbody tr th {\n",
       "        vertical-align: top;\n",
       "    }\n",
       "\n",
       "    .dataframe thead th {\n",
       "        text-align: right;\n",
       "    }\n",
       "</style>\n",
       "<table border=\"1\" class=\"dataframe\">\n",
       "  <thead>\n",
       "    <tr style=\"text-align: right;\">\n",
       "      <th></th>\n",
       "      <th>Telescope</th>\n",
       "      <th>Frequency (MHz)</th>\n",
       "      <th>Redshift</th>\n",
       "    </tr>\n",
       "  </thead>\n",
       "  <tbody>\n",
       "    <tr>\n",
       "      <th>0</th>\n",
       "      <td>SARAS1</td>\n",
       "      <td>[87.5, 175.0]</td>\n",
       "      <td>[15.23, 7.12]</td>\n",
       "    </tr>\n",
       "    <tr>\n",
       "      <th>1</th>\n",
       "      <td>SARAS2</td>\n",
       "      <td>[110.0, 200.0]</td>\n",
       "      <td>[11.91, 6.1]</td>\n",
       "    </tr>\n",
       "    <tr>\n",
       "      <th>2</th>\n",
       "      <td>SARAS3</td>\n",
       "      <td>[40.0, 200.0]</td>\n",
       "      <td>[34.51, 6.1]</td>\n",
       "    </tr>\n",
       "  </tbody>\n",
       "</table>\n",
       "</div>"
      ],
      "text/plain": [
       "  Telescope Frequency (MHz)       Redshift\n",
       "0    SARAS1   [87.5, 175.0]  [15.23, 7.12]\n",
       "1    SARAS2  [110.0, 200.0]   [11.91, 6.1]\n",
       "2    SARAS3   [40.0, 200.0]   [34.51, 6.1]"
      ]
     },
     "execution_count": 4,
     "metadata": {},
     "output_type": "execute_result"
    }
   ],
   "source": [
    "get_redshift('SARAS')"
   ]
  },
  {
   "cell_type": "markdown",
   "metadata": {},
   "source": [
    "### Generating TeX tables"
   ]
  },
  {
   "cell_type": "code",
   "execution_count": 5,
   "metadata": {},
   "outputs": [
    {
     "name": "stdout",
     "output_type": "stream",
     "text": [
      "\\begin{tabular}{llll}\n",
      "\\toprule\n",
      "Telescope & Publications & Location & Frequency (MHz) \\\\\n",
      "\\midrule\n",
      "SARAS1 & \\citep{2013ExA....36..319P} & ['Gauribidanur Observatory (southern India)'] & [ 87.5 175. ] \\\\\n",
      "SARAS2 & \\citep{2018ExA....45..269S, 2017ApJ...845L..12S} & ['Timbaktu Collective (southern India)'] & [110. 200.] \\\\\n",
      "SARAS3 & \\citep{2021arXiv210401756N, 2020JAI.....950006G} & ['Southern India'] & [ 40. 200.] \\\\\n",
      "\\bottomrule\n",
      "\\end{tabular}\n",
      "\n"
     ]
    }
   ],
   "source": [
    "# Get the information for the SARAS experiment\n",
    "SARAS_info = get_experiment('SARAS').copy()\n",
    "# Modify columns as needed\n",
    "SARAS_info['Publications'] = SARAS_info['Publications'].apply(lambda x: '\\\\citep{' + ','.join(x) + '}' if x == x else x)\n",
    "# Convert the data to LaTeX\n",
    "SARAS_tex = SARAS_info.to_latex(columns=['Telescope', 'Publications', 'Frequency (MHz)', 'Location'], index=False)\n",
    "print(SARAS_tex)"
   ]
  }
 ],
 "metadata": {
  "kernelspec": {
   "display_name": "standard",
   "language": "python",
   "name": "python3"
  },
  "language_info": {
   "codemirror_mode": {
    "name": "ipython",
    "version": 3
   },
   "file_extension": ".py",
   "mimetype": "text/x-python",
   "name": "python",
   "nbconvert_exporter": "python",
   "pygments_lexer": "ipython3",
   "version": "3.12.4"
  }
 },
 "nbformat": 4,
 "nbformat_minor": 2
}
